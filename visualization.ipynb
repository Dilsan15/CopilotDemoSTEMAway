{
 "cells": [
  {
   "cell_type": "code",
   "execution_count": 53,
   "metadata": {
    "collapsed": true,
    "ExecuteTime": {
     "end_time": "2023-06-30T01:19:29.679279400Z",
     "start_time": "2023-06-30T01:19:29.670769Z"
    }
   },
   "outputs": [
    {
     "name": "stderr",
     "output_type": "stream",
     "text": [
      "[nltk_data] Downloading package omw-1.4 to C:\\Users\\Dilshaan\n",
      "[nltk_data]     Sandhu\\AppData\\Roaming\\nltk_data...\n",
      "[nltk_data]   Package omw-1.4 is already up-to-date!\n"
     ]
    },
    {
     "data": {
      "text/plain": "True"
     },
     "execution_count": 53,
     "metadata": {},
     "output_type": "execute_result"
    }
   ],
   "source": [
    "\n",
    "# Import the needed libraries\n",
    "import nltk\n",
    "import pandas as pd\n",
    "from nltk.corpus import stopwords\n",
    "from nltk.stem import WordNetLemmatizer\n",
    "import matplotlib.pyplot as plt\n",
    "\n",
    "# Load the data\n",
    "df = pd.read_csv(\"data/quotes.csv\")\n",
    "df.columns = [\"quote\", \"author\", \"tags\"]\n",
    "\n",
    "stop = stopwords.words(\"english\")\n",
    "nltk.download('omw-1.4')"
   ]
  },
  {
   "cell_type": "markdown",
   "source": [
    "<h2>Basic Preprocessing</h2>"
   ],
   "metadata": {
    "collapsed": false
   }
  },
  {
   "cell_type": "code",
   "execution_count": 54,
   "outputs": [
    {
     "name": "stderr",
     "output_type": "stream",
     "text": [
      "C:\\Users\\Dilshaan Sandhu\\AppData\\Local\\Temp\\ipykernel_18816\\2941459702.py:2: FutureWarning: The default value of regex will change from True to False in a future version.\n",
      "  df[\"quote_clean\"] = df[\"quote\"].str.replace(\"[^a-zA-Z#]\", \" \")\n"
     ]
    }
   ],
   "source": [
    "\n",
    "# Removing punctuation and special characters\n",
    "df[\"quote_clean\"] = df[\"quote\"].str.replace(\"[^a-zA-Z#]\", \" \")\n",
    "df[\"quote_clean\"] = df[\"quote_clean\"].str.lower()\n",
    "\n",
    "# Removing stopwords\n",
    "df[\"quote_clean\"] = df[\"quote_clean\"].apply(lambda x: \" \".join([word for word in x.split() if word not in stop]))\n",
    "\n",
    "# Lemmatizing the words\n",
    "lemmatizer = WordNetLemmatizer()\n",
    "df[\"quote_clean\"] = df[\"quote_clean\"].apply(lambda x: \" \".join([lemmatizer.lemmatize(word) for word in x.split()]))\n"
   ],
   "metadata": {
    "collapsed": false,
    "ExecuteTime": {
     "end_time": "2023-06-30T01:19:30.779592100Z",
     "start_time": "2023-06-30T01:19:30.731704500Z"
    }
   }
  },
  {
   "cell_type": "markdown",
   "source": [
    "<h2>Create a bar graph of the most common words</h2>\n",
    "\n"
   ],
   "metadata": {
    "collapsed": false
   }
  },
  {
   "cell_type": "code",
   "execution_count": 55,
   "outputs": [
    {
     "data": {
      "text/plain": "<Figure size 640x480 with 1 Axes>",
      "image/png": "[encoded data removed]"
     },
     "metadata": {},
     "output_type": "display_data"
    }
   ],
   "source": [
    "words = df[\"quote_clean\"].str.lower().str.split().explode().value_counts()\n",
    "words = words[:10]\n",
    "words.plot.bar()\n",
    "plt.show()"
   ],
   "metadata": {
    "collapsed": false,
    "ExecuteTime": {
     "end_time": "2023-06-30T01:19:31.529318300Z",
     "start_time": "2023-06-30T01:19:31.440178300Z"
    }
   }
  },
  {
   "cell_type": "code",
   "execution_count": null,
   "outputs": [],
   "source": [],
   "metadata": {
    "collapsed": false
   }
  }
 ],
 "metadata": {
  "kernelspec": {
   "display_name": "Python 3",
   "language": "python",
   "name": "python3"
  },
  "language_info": {
   "codemirror_mode": {
    "name": "ipython",
    "version": 2
   },
   "file_extension": ".py",
   "mimetype": "text/x-python",
   "name": "python",
   "nbconvert_exporter": "python",
   "pygments_lexer": "ipython2",
   "version": "2.7.6"
  }
 },
 "nbformat": 4,
 "nbformat_minor": 0
}
